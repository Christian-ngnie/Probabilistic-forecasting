{
  "cells": [
    {
      "cell_type": "markdown",
      "metadata": {
        "id": "0eoF6ucKskFK"
      },
      "source": [
        "# Importing Packages"
      ]
    },
    {
      "cell_type": "code",
      "execution_count": 2,
      "metadata": {
        "id": "gG52jf8Sn0R7"
      },
      "outputs": [],
      "source": [
        "import sys\n",
        "import pandas as pd\n",
        "import math\n",
        "import numpy as np\n",
        "\n",
        "import matplotlib\n",
        "from matplotlib import pyplot as plt\n",
        "from matplotlib import style\n",
        "import seaborn as sns\n",
        "import tradingeconomics as te\n",
        "from datetime import datetime,timedelta\n",
        "import os\n",
        "import requests"
      ]
    },
    {
      "cell_type": "code",
      "execution_count": 3,
      "metadata": {},
      "outputs": [],
      "source": [
        "pd.options.display.max_columns=1000"
      ]
    },
    {
      "attachments": {},
      "cell_type": "markdown",
      "metadata": {
        "id": "cMERcPar_lpj"
      },
      "source": [
        "# Exploration"
      ]
    },
    {
      "cell_type": "code",
      "execution_count": 77,
      "metadata": {},
      "outputs": [],
      "source": [
        "#df=pd.read_excel('REACH_RCA_Base_de_donnees_Suivi_des_marches_Mai_2023.xlsx', sheet_name='Données nettoyées', header=1)\n",
        "#df=pd.read_excel('REACH_RCA_Base_de_donnees_Suivi_des_marches_Avril_2023.xlsx', sheet_name='Données nettoyées', header=1)\n",
        "#df=pd.read_excel('REACH_RCA_Base_de_donnees_Suivi_des_marches_Mars_2023.xlsx', sheet_name='Données nettoyées', header=1)\n",
        "#df=pd.read_excel('REACH_RCA_Base_de_donnees_Suivi_des_marches_Fevrier_2023.xlsx', sheet_name='Données nettoyées', header=1)\n",
        "#df=pd.read_excel('REACH_RCA_Base_de_donnees_Suivi_des_marches_Janvier_2023-1.xlsx', sheet_name='Données nettoyées', header=1)\n",
        "#df=pd.read_excel('REACH_RCA_Base_de_donnees_Suivi_des_marches_Novembre_2022.xlsx', sheet_name='Données nettoyées', header=1)\n",
        "#df=pd.read_excel('REACH_RCA_Base_de_donnees_Suivi_des_marches_Octobre_2022.xlsx', sheet_name='Données nettoyées', header=1)\n",
        "#df=pd.read_excel('REACH_RCA_Base_de_donnees_Suivi_des_marches_Septembre_2022.xlsx', sheet_name='Données nettoyées', header=1)\n",
        "#df=pd.read_excel('REACH_RCA_Base_de_donnees_Suivi_des_marches_Aout_2022.xlsx', sheet_name='Données nettoyées', header=1)\n",
        "#df=pd.read_excel('REACH_RCA_Base_de_donnees_Suivi_des_marches_Juillet_2022.xlsx', sheet_name='Données nettoyées', header=1)\n",
        "#df=pd.read_excel('REACH_RCA_Base_de_donnees_Suivi_des_marches_Juin_2022.xlsx', sheet_name='Données nettoyées', header=1)\n",
        "#df=pd.read_excel('REACH_RCA_Base_de_donnees_Suivi_des_marches_Mai_2022.xlsx', sheet_name='Données nettoyées', header=1)\n",
        "df=pd.read_excel('REACH_RCA_Base_de_donnees_Suivi_des_marches_Aout_2023-1.xlsx', sheet_name='Prix médians', header=3)"
      ]
    },
    {
      "cell_type": "code",
      "execution_count": 8,
      "metadata": {},
      "outputs": [],
      "source": [
        "df_m=df[['uuid', 'start', 'end', 'today', 'diviceid', 'q0_3_date', 'q0_4_admin1',\n",
        "       'q0_5_admin2', 'q0_6_admin3', 'q0_7_localite', 'q0_8_market_size']]"
      ]
    },
    {
      "cell_type": "code",
      "execution_count": 7,
      "metadata": {},
      "outputs": [],
      "source": [
        "df.rename(columns={'deviceid':'diviceid'}, inplace=True)"
      ]
    },
    {
      "cell_type": "code",
      "execution_count": 127,
      "metadata": {},
      "outputs": [],
      "source": [
        "#df.loc[0, 'q1_articles_habituels']\n",
        "#, 'version__'"
      ]
    },
    {
      "cell_type": "code",
      "execution_count": 9,
      "metadata": {},
      "outputs": [],
      "source": [
        "C=df.loc[:, 'q1_articles_habituels.nfi_moustiquaire':].drop(['commentaire', 'id', 'submission_time', 'validation_status', 'notes', 'status', 'submitted_by', 'version__', 'tags', 'index'], axis=1).columns.tolist()"
      ]
    },
    {
      "cell_type": "code",
      "execution_count": 10,
      "metadata": {},
      "outputs": [],
      "source": [
        "K=[]\n",
        "for j in C:\n",
        "    if 'approvisionnement' in j:\n",
        "        K.append(j)"
      ]
    },
    {
      "cell_type": "code",
      "execution_count": 11,
      "metadata": {},
      "outputs": [],
      "source": [
        "#df['q2_1_4_moustiquaire_approvisionnement'].nunique()"
      ]
    },
    {
      "cell_type": "code",
      "execution_count": 12,
      "metadata": {},
      "outputs": [],
      "source": [
        "K_=[]\n",
        "for j in K:\n",
        "    if df[j].nunique()==2 and ('oui' in df[j].unique().tolist()) and ('non' in df[j].unique().tolist()):\n",
        "        K_.append(j)"
      ]
    },
    {
      "cell_type": "code",
      "execution_count": 13,
      "metadata": {},
      "outputs": [],
      "source": [
        "K__=[]\n",
        "for j in K:\n",
        "    if j.endswith('raison'):\n",
        "        K__.append(j)"
      ]
    },
    {
      "cell_type": "code",
      "execution_count": 14,
      "metadata": {},
      "outputs": [],
      "source": [
        "#df_m=pd.concat([df_m, df[K_]], axis=1)\n",
        "df_=pd.DataFrame()\n",
        "df_1=pd.DataFrame()\n",
        "for j in K_:\n",
        "    df_=pd.concat([df_, df_m[df[j]=='oui']])\n",
        "    df_['product']=j[7:-18]\n",
        "    df_1=pd.concat([df_1, df_])"
      ]
    },
    {
      "cell_type": "code",
      "execution_count": 15,
      "metadata": {},
      "outputs": [],
      "source": [
        "df_22=df_1.reset_index().drop('index', axis=1)\n",
        "for i in range(len(df_22)):\n",
        "    id=df_22.loc[i, 'uuid']\n",
        "    p=df_22.loc[i, 'product']\n",
        "    for j in K__:\n",
        "        if p in j:\n",
        "            df_22.loc[i, 'supply constraints types']=df[df['uuid']==id][j].tolist()[0]"
      ]
    },
    {
      "cell_type": "code",
      "execution_count": 16,
      "metadata": {},
      "outputs": [],
      "source": [
        "df_22['supply constraints']=1"
      ]
    },
    {
      "cell_type": "code",
      "execution_count": 17,
      "metadata": {},
      "outputs": [],
      "source": [
        "#df_m=pd.concat([df_m, df[K_]], axis=1)\n",
        "df_=pd.DataFrame()\n",
        "df_1=pd.DataFrame()\n",
        "for j in K_:\n",
        "    df_=pd.concat([df_, df_m[df[j]=='non']])\n",
        "    df_['product']=j[7:-18]\n",
        "    df_1=pd.concat([df_1, df_])"
      ]
    },
    {
      "cell_type": "code",
      "execution_count": 18,
      "metadata": {},
      "outputs": [],
      "source": [
        "df_22b=df_1.copy()\n",
        "df_22b['supply constraints']=0\n",
        "df_22b['supply constraints types']=np.nan"
      ]
    },
    {
      "cell_type": "code",
      "execution_count": 19,
      "metadata": {},
      "outputs": [],
      "source": [
        "df_2=pd.DataFrame()\n",
        "df_2=pd.concat([df_2, df_22, df_22b])"
      ]
    },
    {
      "cell_type": "code",
      "execution_count": null,
      "metadata": {},
      "outputs": [],
      "source": [
        "df_2"
      ]
    },
    {
      "cell_type": "code",
      "execution_count": 21,
      "metadata": {},
      "outputs": [],
      "source": [
        "#df_n=pd.read_excel('REACH_App_new.xlsx')\n",
        "#df_2_=pd.concat([df_n, df_2])"
      ]
    },
    {
      "cell_type": "code",
      "execution_count": 22,
      "metadata": {},
      "outputs": [],
      "source": [
        "df_2_.to_excel('REACH_App_new_.xlsx', index=False)"
      ]
    },
    {
      "cell_type": "code",
      "execution_count": 4,
      "metadata": {},
      "outputs": [],
      "source": [
        "df_3=pd.read_excel('REACH_App.xlsx')"
      ]
    },
    {
      "cell_type": "code",
      "execution_count": 29,
      "metadata": {},
      "outputs": [],
      "source": [
        "df_2_=df_2_.reset_index().drop('index', axis=1)"
      ]
    },
    {
      "cell_type": "code",
      "execution_count": 59,
      "metadata": {},
      "outputs": [],
      "source": [
        "dff=df_2_.copy()\n",
        "t=['trop_cher', 'etat_route', 'insecurite', 'absence_transport']\n",
        "for j in range(len(t)):\n",
        "    k=t[j]\n",
        "    dff[k]=np.nan\n",
        "    for i in range(len(df_2_)):\n",
        "        if k in str(df_2_.loc[i, 'supply constraints types']):\n",
        "            dff.loc[i, k]=1\n",
        "        else:\n",
        "            dff.loc[i, k]=0\n",
        "#df_2_[df_2_['supply constraints types']=='trop_cher']"
      ]
    },
    {
      "cell_type": "code",
      "execution_count": 61,
      "metadata": {},
      "outputs": [],
      "source": [
        "dff.to_excel('CK_approv.xlsx', index=False)"
      ]
    },
    {
      "cell_type": "code",
      "execution_count": 64,
      "metadata": {},
      "outputs": [],
      "source": [
        "#df.loc[:, 'q1_articles_habituels.nfi_moustiquaire':]"
      ]
    },
    {
      "cell_type": "code",
      "execution_count": 24,
      "metadata": {},
      "outputs": [],
      "source": [
        "for i in range(len(df_m)):\n",
        "    #q=0\n",
        "    t=[]\n",
        "    for j in C:\n",
        "        if str(df.loc[i,j])!='nan':\n",
        "            #q+=df.loc[i,j]\n",
        "            t.append(df.loc[i,j])\n",
        "        else:\n",
        "            t.append('nan')\n",
        "    #if q==1:\n",
        "        #k=t.index(1)\n",
        "        #df_m.loc[i, 'Attribute']=C[k]"
      ]
    },
    {
      "cell_type": "code",
      "execution_count": 74,
      "metadata": {},
      "outputs": [],
      "source": [
        "import unidecode"
      ]
    },
    {
      "cell_type": "code",
      "execution_count": null,
      "metadata": {},
      "outputs": [],
      "source": [
        "df.rename(columns=lambda x: x.strip(), inplace=True)\n",
        "id=[]\n",
        "for i in range(len(df)):\n",
        "    #if str(df.loc[i,'Préfectures'])=='nan':\n",
        "        #df.loc[i,'Préfectures']=df.loc[i-1,'Préfectures']\n",
        "    \n",
        "    if  'TOTAL' in str(df.loc[i,'Préfectures']):\n",
        "        id.append(i)\n",
        "\n",
        "df=df[df.index < min(id)]\n",
        "df['Marchés']=df['Marchés'].apply(lambda x: unidecode.unidecode(x))\n",
        "#df['Préfectures']=df['Préfectures'].apply(lambda x: unidecode.unidecode(x))\n",
        "df['Date']=pd.to_datetime('2022-08-01')\n",
        "df=df[df.columns.tolist()[-1:] + df.columns.tolist()[:-1]]"
      ]
    },
    {
      "cell_type": "code",
      "execution_count": 83,
      "metadata": {},
      "outputs": [],
      "source": [
        "df['Préfecturess']=np.nan"
      ]
    },
    {
      "cell_type": "code",
      "execution_count": null,
      "metadata": {},
      "outputs": [],
      "source": [
        "for i in range(len(df)):\n",
        "    try:\n",
        "        k=df.loc[i, 'Marchés']\n",
        "        df.loc[i, 'Préfecturess']=df_[df_['marchés']==k]['préfectures'].tolist()[0]\n",
        "    except:\n",
        "        pass\n",
        "\n",
        "df.insert(loc=1, column='Préfectures', value=df.Préfecturess.tolist())\n",
        "df.drop('Préfecturess', axis=1, inplace=True)"
      ]
    },
    {
      "cell_type": "code",
      "execution_count": 86,
      "metadata": {},
      "outputs": [],
      "source": [
        "df.columns=df.columns.str.lower()"
      ]
    },
    {
      "cell_type": "code",
      "execution_count": 107,
      "metadata": {},
      "outputs": [],
      "source": [
        "C=['moustiquaire', 'bidon', 'drap',\n",
        "       'pagne', 'natte', 'bâche', 'marmite', 'cuvette métallique',\n",
        "       'maïs en grains', 'manioc cossette', 'riz', 'haricot', 'arachide',\n",
        "       'viande', 'huile végétale', 'sucre', 'sel', 'savon', 'théière / bouta',\n",
        "       'seau plastique', 'bois de chauffage', 'essence', 'eau bidon 20l']"
      ]
    },
    {
      "cell_type": "code",
      "execution_count": 109,
      "metadata": {},
      "outputs": [],
      "source": [
        "#df_.columns=df_.columns.str.lower()\n",
        "#dfff=df[['date', 'préfectures', 'marchés']].reset_index().drop('index', axis=1)\n",
        "#df=df.reset_index().drop('index', axis=1)\n",
        "dfff_=pd.DataFrame()\n",
        "for i in C:\n",
        "    dfff['product']=i\n",
        "    dfff['values']=np.nan\n",
        "    for j in range(len(df)):\n",
        "        dfff.loc[j, 'values']=df.loc[j, i]\n",
        "    \n",
        "    dff_1=dfff.copy()\n",
        "    \n",
        "    dfff_=pd.concat([dfff_, dff_1])"
      ]
    },
    {
      "cell_type": "code",
      "execution_count": 92,
      "metadata": {},
      "outputs": [],
      "source": [
        "df=pd.concat([d, df])"
      ]
    },
    {
      "cell_type": "code",
      "execution_count": 94,
      "metadata": {},
      "outputs": [],
      "source": [
        "df.to_excel('REACH_Append_prix_median.xlsx', index=False)"
      ]
    },
    {
      "cell_type": "code",
      "execution_count": 12,
      "metadata": {},
      "outputs": [],
      "source": [
        "df.reset_index().drop('index', axis=1).to_excel('REACH_Append_May.xlsx', index=False)"
      ]
    },
    {
      "cell_type": "code",
      "execution_count": 2,
      "metadata": {},
      "outputs": [],
      "source": [
        "df=pd.read_excel('REACH_Append_May.xlsx')"
      ]
    },
    {
      "cell_type": "code",
      "execution_count": null,
      "metadata": {},
      "outputs": [],
      "source": [
        "\"Bossangoa\"-----\"Ouham\"\n",
        "'Mbaiki'-----'Lobaye'\n",
        "'Dimbi'---'Basse-Kotto'\n",
        "\n",
        "'Kouango'---'Ouaka'\n",
        "'Kabo'---'Ouham'"
      ]
    },
    {
      "cell_type": "code",
      "execution_count": 120,
      "metadata": {},
      "outputs": [
        {
          "data": {
            "text/html": [
              "<div>\n",
              "<style scoped>\n",
              "    .dataframe tbody tr th:only-of-type {\n",
              "        vertical-align: middle;\n",
              "    }\n",
              "\n",
              "    .dataframe tbody tr th {\n",
              "        vertical-align: top;\n",
              "    }\n",
              "\n",
              "    .dataframe thead th {\n",
              "        text-align: right;\n",
              "    }\n",
              "</style>\n",
              "<table border=\"1\" class=\"dataframe\">\n",
              "  <thead>\n",
              "    <tr style=\"text-align: right;\">\n",
              "      <th></th>\n",
              "      <th>date</th>\n",
              "      <th>préfectures</th>\n",
              "      <th>marchés</th>\n",
              "      <th>product</th>\n",
              "      <th>values</th>\n",
              "    </tr>\n",
              "  </thead>\n",
              "  <tbody>\n",
              "  </tbody>\n",
              "</table>\n",
              "</div>"
            ],
            "text/plain": [
              "Empty DataFrame\n",
              "Columns: [date, préfectures, marchés, product, values]\n",
              "Index: []"
            ]
          },
          "execution_count": 120,
          "metadata": {},
          "output_type": "execute_result"
        }
      ],
      "source": [
        "#dfff_=dfff_.reset_index().drop('index', axis=1)\n",
        "dfff_[dfff_['préfectures'].isnull()]"
      ]
    },
    {
      "cell_type": "code",
      "execution_count": null,
      "metadata": {},
      "outputs": [],
      "source": [
        "dfff_.to_excel('REACH_Append_prices.xlsx', index=False)"
      ]
    },
    {
      "cell_type": "code",
      "execution_count": 119,
      "metadata": {},
      "outputs": [],
      "source": [
        "for i in range(len(dfff_)):\n",
        "    if dfff_.loc[i, 'marchés']=='Dimbi':\n",
        "        dfff_.loc[i, 'préfectures']='Basse-Kotto'\n",
        "    \n",
        "    if dfff_.loc[i, 'marchés']=='Mobaye':\n",
        "        dfff_.loc[i, 'préfectures']='Basse-Kotto'\n",
        "\n",
        "    if dfff_.loc[i, 'marchés']=='Kouango':\n",
        "        dfff_.loc[i, 'préfectures']='Ouaka'\n",
        "\n",
        "    if dfff_.loc[i, 'marchés']=='Kabo':\n",
        "        dfff_.loc[i, 'préfectures']='Ouham-Fafa'\n",
        "\n",
        "    if dfff_.loc[i, 'marchés']=='Markounda':\n",
        "        dfff_.loc[i, 'préfectures']='Ouham'\n",
        "    \n",
        "    if dfff_.loc[i, 'marchés']=='Koui':\n",
        "        dfff_.loc[i, 'préfectures']='Ouham-Pendé'\n",
        "    \n",
        "    if dfff_.loc[i, 'marchés']=='Paoua':\n",
        "        dfff_.loc[i, 'préfectures']='Lim-Pendé'\n",
        "    \n",
        "    #if df.loc[i, 'marchés']=='Mbaiki':\n",
        "        #df.loc[i, 'préfectures']='Lobaye'"
      ]
    },
    {
      "cell_type": "code",
      "execution_count": 11,
      "metadata": {},
      "outputs": [
        {
          "data": {
            "text/html": [
              "<div>\n",
              "<style scoped>\n",
              "    .dataframe tbody tr th:only-of-type {\n",
              "        vertical-align: middle;\n",
              "    }\n",
              "\n",
              "    .dataframe tbody tr th {\n",
              "        vertical-align: top;\n",
              "    }\n",
              "\n",
              "    .dataframe thead th {\n",
              "        text-align: right;\n",
              "    }\n",
              "</style>\n",
              "<table border=\"1\" class=\"dataframe\">\n",
              "  <thead>\n",
              "    <tr style=\"text-align: right;\">\n",
              "      <th></th>\n",
              "      <th>date</th>\n",
              "      <th>préfectures</th>\n",
              "      <th>marchés</th>\n",
              "      <th>moustiquaire</th>\n",
              "      <th>bidon</th>\n",
              "      <th>drap</th>\n",
              "      <th>pagne</th>\n",
              "      <th>natte</th>\n",
              "      <th>bâche</th>\n",
              "      <th>marmite</th>\n",
              "      <th>...</th>\n",
              "      <th>viande</th>\n",
              "      <th>huile végétale</th>\n",
              "      <th>sucre</th>\n",
              "      <th>sel</th>\n",
              "      <th>savon</th>\n",
              "      <th>théière / bouta</th>\n",
              "      <th>seau plastique</th>\n",
              "      <th>bois de chauffage</th>\n",
              "      <th>essence</th>\n",
              "      <th>eau bidon 20l</th>\n",
              "    </tr>\n",
              "  </thead>\n",
              "  <tbody>\n",
              "  </tbody>\n",
              "</table>\n",
              "<p>0 rows × 26 columns</p>\n",
              "</div>"
            ],
            "text/plain": [
              "Empty DataFrame\n",
              "Columns: [date, préfectures, marchés, moustiquaire, bidon, drap, pagne, natte, bâche, marmite, cuvette métallique, maïs en grains, manioc cossette, riz, haricot, arachide, viande, huile végétale, sucre, sel, savon, théière / bouta, seau plastique, bois de chauffage, essence, eau bidon 20l]\n",
              "Index: []\n",
              "\n",
              "[0 rows x 26 columns]"
            ]
          },
          "execution_count": 11,
          "metadata": {},
          "output_type": "execute_result"
        }
      ],
      "source": [
        "df[df['préfectures'].isnull()]"
      ]
    }
  ],
  "metadata": {
    "colab": {
      "name": "ML5_Forecasting_20220409.ipynb",
      "provenance": []
    },
    "kernelspec": {
      "display_name": "Python 3",
      "name": "python3"
    },
    "language_info": {
      "codemirror_mode": {
        "name": "ipython",
        "version": 3
      },
      "file_extension": ".py",
      "mimetype": "text/x-python",
      "name": "python",
      "nbconvert_exporter": "python",
      "pygments_lexer": "ipython3",
      "version": "3.9.18"
    }
  },
  "nbformat": 4,
  "nbformat_minor": 0
}
